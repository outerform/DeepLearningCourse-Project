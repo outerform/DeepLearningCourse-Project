{
 "cells": [
  {
   "cell_type": "code",
   "execution_count": 1,
   "metadata": {},
   "outputs": [],
   "source": [
    "import os\n",
    "import torch\n",
    "# import wandb\n",
    "\n",
    "import cv2\n",
    "import numpy as np\n",
    "import pandas as pd\n",
    "from tqdm.auto import tqdm\n",
    "from shutil import copyfile\n",
    "import matplotlib.pyplot as plt"
   ]
  },
  {
   "cell_type": "code",
   "execution_count": 2,
   "metadata": {},
   "outputs": [],
   "source": [
    "from sklearn.model_selection import GroupKFold\n",
    "folds = GroupKFold(n_splits=5)"
   ]
  },
  {
   "cell_type": "code",
   "execution_count": 3,
   "metadata": {},
   "outputs": [],
   "source": [
    "import pandas as pd\n",
    "train_label_image = pd.read_csv('./siim-covid19-detection/train_image_level.csv')\n",
    "train_label_study = pd.read_csv('./siim-covid19-detection/train_study_level.csv')"
   ]
  },
  {
   "cell_type": "code",
   "execution_count": 4,
   "metadata": {},
   "outputs": [
    {
     "data": {
      "text/html": [
       "<div>\n",
       "<style scoped>\n",
       "    .dataframe tbody tr th:only-of-type {\n",
       "        vertical-align: middle;\n",
       "    }\n",
       "\n",
       "    .dataframe tbody tr th {\n",
       "        vertical-align: top;\n",
       "    }\n",
       "\n",
       "    .dataframe thead th {\n",
       "        text-align: right;\n",
       "    }\n",
       "</style>\n",
       "<table border=\"1\" class=\"dataframe\">\n",
       "  <thead>\n",
       "    <tr style=\"text-align: right;\">\n",
       "      <th></th>\n",
       "      <th>id</th>\n",
       "      <th>Negative for Pneumonia</th>\n",
       "      <th>Typical Appearance</th>\n",
       "      <th>Indeterminate Appearance</th>\n",
       "      <th>Atypical Appearance</th>\n",
       "    </tr>\n",
       "  </thead>\n",
       "  <tbody>\n",
       "    <tr>\n",
       "      <th>0</th>\n",
       "      <td>00086460a852_study</td>\n",
       "      <td>0</td>\n",
       "      <td>1</td>\n",
       "      <td>0</td>\n",
       "      <td>0</td>\n",
       "    </tr>\n",
       "    <tr>\n",
       "      <th>1</th>\n",
       "      <td>000c9c05fd14_study</td>\n",
       "      <td>0</td>\n",
       "      <td>0</td>\n",
       "      <td>0</td>\n",
       "      <td>1</td>\n",
       "    </tr>\n",
       "    <tr>\n",
       "      <th>2</th>\n",
       "      <td>00292f8c37bd_study</td>\n",
       "      <td>1</td>\n",
       "      <td>0</td>\n",
       "      <td>0</td>\n",
       "      <td>0</td>\n",
       "    </tr>\n",
       "    <tr>\n",
       "      <th>3</th>\n",
       "      <td>005057b3f880_study</td>\n",
       "      <td>1</td>\n",
       "      <td>0</td>\n",
       "      <td>0</td>\n",
       "      <td>0</td>\n",
       "    </tr>\n",
       "    <tr>\n",
       "      <th>4</th>\n",
       "      <td>0051d9b12e72_study</td>\n",
       "      <td>0</td>\n",
       "      <td>0</td>\n",
       "      <td>0</td>\n",
       "      <td>1</td>\n",
       "    </tr>\n",
       "    <tr>\n",
       "      <th>...</th>\n",
       "      <td>...</td>\n",
       "      <td>...</td>\n",
       "      <td>...</td>\n",
       "      <td>...</td>\n",
       "      <td>...</td>\n",
       "    </tr>\n",
       "    <tr>\n",
       "      <th>6049</th>\n",
       "      <td>ffcb4630f46f_study</td>\n",
       "      <td>0</td>\n",
       "      <td>1</td>\n",
       "      <td>0</td>\n",
       "      <td>0</td>\n",
       "    </tr>\n",
       "    <tr>\n",
       "      <th>6050</th>\n",
       "      <td>ffe4d6e8fbb0_study</td>\n",
       "      <td>0</td>\n",
       "      <td>1</td>\n",
       "      <td>0</td>\n",
       "      <td>0</td>\n",
       "    </tr>\n",
       "    <tr>\n",
       "      <th>6051</th>\n",
       "      <td>ffe94fcb14fa_study</td>\n",
       "      <td>0</td>\n",
       "      <td>1</td>\n",
       "      <td>0</td>\n",
       "      <td>0</td>\n",
       "    </tr>\n",
       "    <tr>\n",
       "      <th>6052</th>\n",
       "      <td>ffebf1ef4a9c_study</td>\n",
       "      <td>0</td>\n",
       "      <td>1</td>\n",
       "      <td>0</td>\n",
       "      <td>0</td>\n",
       "    </tr>\n",
       "    <tr>\n",
       "      <th>6053</th>\n",
       "      <td>fff649d65f62_study</td>\n",
       "      <td>0</td>\n",
       "      <td>1</td>\n",
       "      <td>0</td>\n",
       "      <td>0</td>\n",
       "    </tr>\n",
       "  </tbody>\n",
       "</table>\n",
       "<p>6054 rows × 5 columns</p>\n",
       "</div>"
      ],
      "text/plain": [
       "                      id  Negative for Pneumonia  Typical Appearance  \\\n",
       "0     00086460a852_study                       0                   1   \n",
       "1     000c9c05fd14_study                       0                   0   \n",
       "2     00292f8c37bd_study                       1                   0   \n",
       "3     005057b3f880_study                       1                   0   \n",
       "4     0051d9b12e72_study                       0                   0   \n",
       "...                  ...                     ...                 ...   \n",
       "6049  ffcb4630f46f_study                       0                   1   \n",
       "6050  ffe4d6e8fbb0_study                       0                   1   \n",
       "6051  ffe94fcb14fa_study                       0                   1   \n",
       "6052  ffebf1ef4a9c_study                       0                   1   \n",
       "6053  fff649d65f62_study                       0                   1   \n",
       "\n",
       "      Indeterminate Appearance  Atypical Appearance  \n",
       "0                            0                    0  \n",
       "1                            0                    1  \n",
       "2                            0                    0  \n",
       "3                            0                    0  \n",
       "4                            0                    1  \n",
       "...                        ...                  ...  \n",
       "6049                         0                    0  \n",
       "6050                         0                    0  \n",
       "6051                         0                    0  \n",
       "6052                         0                    0  \n",
       "6053                         0                    0  \n",
       "\n",
       "[6054 rows x 5 columns]"
      ]
     },
     "execution_count": 4,
     "metadata": {},
     "output_type": "execute_result"
    }
   ],
   "source": [
    "train_label_study"
   ]
  },
  {
   "cell_type": "code",
   "execution_count": 5,
   "metadata": {},
   "outputs": [],
   "source": [
    "study_id = set()\n",
    "boxes_study_id= set()\n",
    "uniqued_train_label_image = pd.DataFrame(columns = train_label_image.columns)\n",
    "\n",
    "for idx,image_id,boxes,label,StudyInstanceUID in train_label_image.itertuples():\n",
    "    # break\n",
    "    if StudyInstanceUID not in study_id:\n",
    "        study_id.add(StudyInstanceUID)\n",
    "        # check if opacity in label\n",
    "        if label.find('none') == -1:\n",
    "            boxes_study_id.add(StudyInstanceUID)\n",
    "        # print(uniqued_train_label_image.columns)\n",
    "        # print(train_label_image.iloc[idx])\n",
    "        uniqued_train_label_image = uniqued_train_label_image.append(train_label_image.iloc[idx])\n",
    "        # print(uniqued_train_label_image.columns)\n",
    "        # break\n",
    "    else:\n",
    "        if StudyInstanceUID in boxes_study_id:\n",
    "            continue\n",
    "        elif label.find('none') == -1:\n",
    "            boxes_study_id.add(StudyInstanceUID)\n",
    "            uniqued_train_label_image.loc[uniqued_train_label_image['StudyInstanceUID'] == StudyInstanceUID] = [image_id,boxes,label,StudyInstanceUID]\n",
    "\n",
    "uniqued_train_label_image = uniqued_train_label_image.reset_index(drop=True)"
   ]
  },
  {
   "cell_type": "code",
   "execution_count": 6,
   "metadata": {},
   "outputs": [],
   "source": [
    "train_label_study['StudyInstanceUID'] = train_label_study['id'].apply(lambda x: x.replace('_study',''))\n",
    "train_df = pd.merge(uniqued_train_label_image,train_label_study,on='StudyInstanceUID')\n",
    "train_df.rename(columns={'id_x':'id_image'},inplace=True)\n",
    "train_df.drop(['id_y'],axis=1,inplace=True)"
   ]
  },
  {
   "cell_type": "code",
   "execution_count": 7,
   "metadata": {},
   "outputs": [
    {
     "data": {
      "text/html": [
       "<div>\n",
       "<style scoped>\n",
       "    .dataframe tbody tr th:only-of-type {\n",
       "        vertical-align: middle;\n",
       "    }\n",
       "\n",
       "    .dataframe tbody tr th {\n",
       "        vertical-align: top;\n",
       "    }\n",
       "\n",
       "    .dataframe thead th {\n",
       "        text-align: right;\n",
       "    }\n",
       "</style>\n",
       "<table border=\"1\" class=\"dataframe\">\n",
       "  <thead>\n",
       "    <tr style=\"text-align: right;\">\n",
       "      <th></th>\n",
       "      <th>id_image</th>\n",
       "      <th>boxes</th>\n",
       "      <th>label</th>\n",
       "      <th>StudyInstanceUID</th>\n",
       "      <th>Negative for Pneumonia</th>\n",
       "      <th>Typical Appearance</th>\n",
       "      <th>Indeterminate Appearance</th>\n",
       "      <th>Atypical Appearance</th>\n",
       "    </tr>\n",
       "  </thead>\n",
       "  <tbody>\n",
       "    <tr>\n",
       "      <th>0</th>\n",
       "      <td>000a312787f2</td>\n",
       "      <td>[{'x': 789.28836, 'y': 582.43035, 'width': 102...</td>\n",
       "      <td>opacity 1 789.28836 582.43035 1815.94498 2499....</td>\n",
       "      <td>5776db0cec75</td>\n",
       "      <td>0</td>\n",
       "      <td>1</td>\n",
       "      <td>0</td>\n",
       "      <td>0</td>\n",
       "    </tr>\n",
       "    <tr>\n",
       "      <th>1</th>\n",
       "      <td>000c3a3f293f</td>\n",
       "      <td>NaN</td>\n",
       "      <td>none 1 0 0 1 1</td>\n",
       "      <td>ff0879eb20ed</td>\n",
       "      <td>1</td>\n",
       "      <td>0</td>\n",
       "      <td>0</td>\n",
       "      <td>0</td>\n",
       "    </tr>\n",
       "    <tr>\n",
       "      <th>2</th>\n",
       "      <td>0012ff7358bc</td>\n",
       "      <td>[{'x': 677.42216, 'y': 197.97662, 'width': 867...</td>\n",
       "      <td>opacity 1 677.42216 197.97662 1545.21983 1197....</td>\n",
       "      <td>9d514ce429a7</td>\n",
       "      <td>0</td>\n",
       "      <td>1</td>\n",
       "      <td>0</td>\n",
       "      <td>0</td>\n",
       "    </tr>\n",
       "    <tr>\n",
       "      <th>3</th>\n",
       "      <td>001398f4ff4f</td>\n",
       "      <td>[{'x': 2729, 'y': 2181.33331, 'width': 948.000...</td>\n",
       "      <td>opacity 1 2729 2181.33331 3677.00012 2785.33331</td>\n",
       "      <td>28dddc8559b2</td>\n",
       "      <td>0</td>\n",
       "      <td>0</td>\n",
       "      <td>0</td>\n",
       "      <td>1</td>\n",
       "    </tr>\n",
       "    <tr>\n",
       "      <th>4</th>\n",
       "      <td>001bd15d1891</td>\n",
       "      <td>[{'x': 623.23328, 'y': 1050, 'width': 714, 'he...</td>\n",
       "      <td>opacity 1 623.23328 1050 1337.23328 2156 opaci...</td>\n",
       "      <td>dfd9fdd85a3e</td>\n",
       "      <td>0</td>\n",
       "      <td>1</td>\n",
       "      <td>0</td>\n",
       "      <td>0</td>\n",
       "    </tr>\n",
       "    <tr>\n",
       "      <th>...</th>\n",
       "      <td>...</td>\n",
       "      <td>...</td>\n",
       "      <td>...</td>\n",
       "      <td>...</td>\n",
       "      <td>...</td>\n",
       "      <td>...</td>\n",
       "      <td>...</td>\n",
       "      <td>...</td>\n",
       "    </tr>\n",
       "    <tr>\n",
       "      <th>6049</th>\n",
       "      <td>ffcc6edd9445</td>\n",
       "      <td>NaN</td>\n",
       "      <td>none 1 0 0 1 1</td>\n",
       "      <td>7e6c68462e06</td>\n",
       "      <td>1</td>\n",
       "      <td>0</td>\n",
       "      <td>0</td>\n",
       "      <td>0</td>\n",
       "    </tr>\n",
       "    <tr>\n",
       "      <th>6050</th>\n",
       "      <td>ffd91a2c4ca0</td>\n",
       "      <td>NaN</td>\n",
       "      <td>none 1 0 0 1 1</td>\n",
       "      <td>8332bdaddb6e</td>\n",
       "      <td>1</td>\n",
       "      <td>0</td>\n",
       "      <td>0</td>\n",
       "      <td>0</td>\n",
       "    </tr>\n",
       "    <tr>\n",
       "      <th>6051</th>\n",
       "      <td>ffd9b6cf2961</td>\n",
       "      <td>[{'x': 2197.38566, 'y': 841.07361, 'width': 31...</td>\n",
       "      <td>opacity 1 2197.38566 841.07361 2513.80265 1292...</td>\n",
       "      <td>7eed9af03814</td>\n",
       "      <td>0</td>\n",
       "      <td>1</td>\n",
       "      <td>0</td>\n",
       "      <td>0</td>\n",
       "    </tr>\n",
       "    <tr>\n",
       "      <th>6052</th>\n",
       "      <td>ffdc682f7680</td>\n",
       "      <td>[{'x': 2729.27083, 'y': 332.26044, 'width': 14...</td>\n",
       "      <td>opacity 1 2729.27083 332.26044 4225.52099 2936...</td>\n",
       "      <td>a0cb0b96fb3d</td>\n",
       "      <td>0</td>\n",
       "      <td>1</td>\n",
       "      <td>0</td>\n",
       "      <td>0</td>\n",
       "    </tr>\n",
       "    <tr>\n",
       "      <th>6053</th>\n",
       "      <td>ffe942c8655f</td>\n",
       "      <td>[{'x': 208.86463, 'y': 91.53448, 'width': 450....</td>\n",
       "      <td>opacity 1 208.86463 91.53448 659.8321 719.5892...</td>\n",
       "      <td>7d82d53204b8</td>\n",
       "      <td>0</td>\n",
       "      <td>1</td>\n",
       "      <td>0</td>\n",
       "      <td>0</td>\n",
       "    </tr>\n",
       "  </tbody>\n",
       "</table>\n",
       "<p>6054 rows × 8 columns</p>\n",
       "</div>"
      ],
      "text/plain": [
       "          id_image                                              boxes  \\\n",
       "0     000a312787f2  [{'x': 789.28836, 'y': 582.43035, 'width': 102...   \n",
       "1     000c3a3f293f                                                NaN   \n",
       "2     0012ff7358bc  [{'x': 677.42216, 'y': 197.97662, 'width': 867...   \n",
       "3     001398f4ff4f  [{'x': 2729, 'y': 2181.33331, 'width': 948.000...   \n",
       "4     001bd15d1891  [{'x': 623.23328, 'y': 1050, 'width': 714, 'he...   \n",
       "...            ...                                                ...   \n",
       "6049  ffcc6edd9445                                                NaN   \n",
       "6050  ffd91a2c4ca0                                                NaN   \n",
       "6051  ffd9b6cf2961  [{'x': 2197.38566, 'y': 841.07361, 'width': 31...   \n",
       "6052  ffdc682f7680  [{'x': 2729.27083, 'y': 332.26044, 'width': 14...   \n",
       "6053  ffe942c8655f  [{'x': 208.86463, 'y': 91.53448, 'width': 450....   \n",
       "\n",
       "                                                  label StudyInstanceUID  \\\n",
       "0     opacity 1 789.28836 582.43035 1815.94498 2499....     5776db0cec75   \n",
       "1                                        none 1 0 0 1 1     ff0879eb20ed   \n",
       "2     opacity 1 677.42216 197.97662 1545.21983 1197....     9d514ce429a7   \n",
       "3       opacity 1 2729 2181.33331 3677.00012 2785.33331     28dddc8559b2   \n",
       "4     opacity 1 623.23328 1050 1337.23328 2156 opaci...     dfd9fdd85a3e   \n",
       "...                                                 ...              ...   \n",
       "6049                                     none 1 0 0 1 1     7e6c68462e06   \n",
       "6050                                     none 1 0 0 1 1     8332bdaddb6e   \n",
       "6051  opacity 1 2197.38566 841.07361 2513.80265 1292...     7eed9af03814   \n",
       "6052  opacity 1 2729.27083 332.26044 4225.52099 2936...     a0cb0b96fb3d   \n",
       "6053  opacity 1 208.86463 91.53448 659.8321 719.5892...     7d82d53204b8   \n",
       "\n",
       "      Negative for Pneumonia  Typical Appearance  Indeterminate Appearance  \\\n",
       "0                          0                   1                         0   \n",
       "1                          1                   0                         0   \n",
       "2                          0                   1                         0   \n",
       "3                          0                   0                         0   \n",
       "4                          0                   1                         0   \n",
       "...                      ...                 ...                       ...   \n",
       "6049                       1                   0                         0   \n",
       "6050                       1                   0                         0   \n",
       "6051                       0                   1                         0   \n",
       "6052                       0                   1                         0   \n",
       "6053                       0                   1                         0   \n",
       "\n",
       "      Atypical Appearance  \n",
       "0                       0  \n",
       "1                       0  \n",
       "2                       0  \n",
       "3                       1  \n",
       "4                       0  \n",
       "...                   ...  \n",
       "6049                    0  \n",
       "6050                    0  \n",
       "6051                    0  \n",
       "6052                    0  \n",
       "6053                    0  \n",
       "\n",
       "[6054 rows x 8 columns]"
      ]
     },
     "execution_count": 7,
     "metadata": {},
     "output_type": "execute_result"
    }
   ],
   "source": [
    "train_df['id_image'] = train_df['id_image'].apply(lambda x: x.replace('_image',''))\n",
    "train_df['label_2class'] = train_df['label'].apply(lambda x: 1 if x.find('opacity') != -1 else 0)\n",
    "train_df\n"
   ]
  },
  {
   "cell_type": "code",
   "execution_count": null,
   "metadata": {},
   "outputs": [],
   "source": []
  },
  {
   "cell_type": "code",
   "execution_count": null,
   "metadata": {},
   "outputs": [],
   "source": []
  },
  {
   "cell_type": "code",
   "execution_count": null,
   "metadata": {},
   "outputs": [],
   "source": []
  },
  {
   "cell_type": "code",
   "execution_count": null,
   "metadata": {},
   "outputs": [],
   "source": []
  },
  {
   "cell_type": "code",
   "execution_count": null,
   "metadata": {},
   "outputs": [],
   "source": []
  },
  {
   "cell_type": "code",
   "execution_count": null,
   "metadata": {},
   "outputs": [],
   "source": []
  },
  {
   "cell_type": "code",
   "execution_count": null,
   "metadata": {},
   "outputs": [],
   "source": []
  },
  {
   "cell_type": "code",
   "execution_count": 8,
   "metadata": {},
   "outputs": [],
   "source": [
    "train_df['filepath'] = f'./tmp_{512}/train/'+train_df['id_image']+'.png'\n"
   ]
  },
  {
   "cell_type": "code",
   "execution_count": 9,
   "metadata": {},
   "outputs": [],
   "source": [
    "from sklearn.model_selection import GroupKFold\n",
    "folds = GroupKFold(n_splits=5)\n",
    "train_df['fold_id'] = -1\n",
    "for fold_id,(train_idx,valid_idx) in enumerate(folds.split(train_df,groups=train_df.StudyInstanceUID.tolist())):\n",
    "    train_df.loc[valid_idx,'fold_id'] = fold_id"
   ]
  },
  {
   "cell_type": "code",
   "execution_count": 10,
   "metadata": {},
   "outputs": [
    {
     "ename": "NameError",
     "evalue": "name 'train_path' is not defined",
     "output_type": "error",
     "traceback": [
      "\u001b[0;31m---------------------------------------------------------------------------\u001b[0m",
      "\u001b[0;31mNameError\u001b[0m                                 Traceback (most recent call last)",
      "\u001b[0;32m/tmp/ipykernel_1617342/168830727.py\u001b[0m in \u001b[0;36m<module>\u001b[0;34m\u001b[0m\n\u001b[1;32m      1\u001b[0m \u001b[0;32mimport\u001b[0m \u001b[0mos\u001b[0m\u001b[0;34m\u001b[0m\u001b[0;34m\u001b[0m\u001b[0m\n\u001b[1;32m      2\u001b[0m \u001b[0;34m\u001b[0m\u001b[0m\n\u001b[0;32m----> 3\u001b[0;31m \u001b[0mos\u001b[0m\u001b[0;34m.\u001b[0m\u001b[0mmakedirs\u001b[0m\u001b[0;34m(\u001b[0m\u001b[0mtrain_path\u001b[0m\u001b[0;34m,\u001b[0m\u001b[0mexist_ok\u001b[0m\u001b[0;34m=\u001b[0m\u001b[0;32mTrue\u001b[0m\u001b[0;34m)\u001b[0m\u001b[0;34m\u001b[0m\u001b[0;34m\u001b[0m\u001b[0m\n\u001b[0m\u001b[1;32m      4\u001b[0m \u001b[0mos\u001b[0m\u001b[0;34m.\u001b[0m\u001b[0mmakedirs\u001b[0m\u001b[0;34m(\u001b[0m\u001b[0mvalid_path\u001b[0m\u001b[0;34m,\u001b[0m\u001b[0mexist_ok\u001b[0m\u001b[0;34m=\u001b[0m\u001b[0;32mTrue\u001b[0m\u001b[0;34m)\u001b[0m\u001b[0;34m\u001b[0m\u001b[0;34m\u001b[0m\u001b[0m\n",
      "\u001b[0;31mNameError\u001b[0m: name 'train_path' is not defined"
     ]
    }
   ],
   "source": [
    "import os\n",
    "\n",
    "os.makedirs(train_path,exist_ok=True)\n",
    "os.makedirs(valid_path,exist_ok=True)"
   ]
  },
  {
   "cell_type": "code",
   "execution_count": null,
   "metadata": {},
   "outputs": [],
   "source": []
  },
  {
   "cell_type": "code",
   "execution_count": 11,
   "metadata": {},
   "outputs": [
    {
     "data": {
      "application/vnd.jupyter.widget-view+json": {
       "model_id": "3825498612ca44199743226b25de9026",
       "version_major": 2,
       "version_minor": 0
      },
      "text/plain": [
       "  0%|          | 0/4843 [00:00<?, ?it/s]"
      ]
     },
     "metadata": {},
     "output_type": "display_data"
    },
    {
     "data": {
      "application/vnd.jupyter.widget-view+json": {
       "model_id": "f28393bbed164e7d943acaffe11d3793",
       "version_major": 2,
       "version_minor": 0
      },
      "text/plain": [
       "  0%|          | 0/1211 [00:00<?, ?it/s]"
      ]
     },
     "metadata": {},
     "output_type": "display_data"
    },
    {
     "data": {
      "application/vnd.jupyter.widget-view+json": {
       "model_id": "f7a9422065e049c19612eadab0ab755a",
       "version_major": 2,
       "version_minor": 0
      },
      "text/plain": [
       "  0%|          | 0/4843 [00:00<?, ?it/s]"
      ]
     },
     "metadata": {},
     "output_type": "display_data"
    },
    {
     "data": {
      "application/vnd.jupyter.widget-view+json": {
       "model_id": "854b716ea86e472c8b27a07394e1d5c0",
       "version_major": 2,
       "version_minor": 0
      },
      "text/plain": [
       "  0%|          | 0/1211 [00:00<?, ?it/s]"
      ]
     },
     "metadata": {},
     "output_type": "display_data"
    },
    {
     "data": {
      "application/vnd.jupyter.widget-view+json": {
       "model_id": "2ddf53d4be6b4ee79df05b995f3a59d4",
       "version_major": 2,
       "version_minor": 0
      },
      "text/plain": [
       "  0%|          | 0/4843 [00:00<?, ?it/s]"
      ]
     },
     "metadata": {},
     "output_type": "display_data"
    },
    {
     "data": {
      "application/vnd.jupyter.widget-view+json": {
       "model_id": "cc9fddfb2a4e4243acaab24e276179ef",
       "version_major": 2,
       "version_minor": 0
      },
      "text/plain": [
       "  0%|          | 0/1211 [00:00<?, ?it/s]"
      ]
     },
     "metadata": {},
     "output_type": "display_data"
    },
    {
     "data": {
      "application/vnd.jupyter.widget-view+json": {
       "model_id": "ce5eab6be0ba4efb92d80b7319839ad9",
       "version_major": 2,
       "version_minor": 0
      },
      "text/plain": [
       "  0%|          | 0/4843 [00:00<?, ?it/s]"
      ]
     },
     "metadata": {},
     "output_type": "display_data"
    },
    {
     "data": {
      "application/vnd.jupyter.widget-view+json": {
       "model_id": "8a550812b9ae48cba6fa4349177fd661",
       "version_major": 2,
       "version_minor": 0
      },
      "text/plain": [
       "  0%|          | 0/1211 [00:00<?, ?it/s]"
      ]
     },
     "metadata": {},
     "output_type": "display_data"
    },
    {
     "data": {
      "application/vnd.jupyter.widget-view+json": {
       "model_id": "5abec2efca404ae9a4de78917bff7d5a",
       "version_major": 2,
       "version_minor": 0
      },
      "text/plain": [
       "  0%|          | 0/4844 [00:00<?, ?it/s]"
      ]
     },
     "metadata": {},
     "output_type": "display_data"
    },
    {
     "data": {
      "application/vnd.jupyter.widget-view+json": {
       "model_id": "2939c8f981af48229b98d04e6576ca4e",
       "version_major": 2,
       "version_minor": 0
      },
      "text/plain": [
       "  0%|          | 0/1210 [00:00<?, ?it/s]"
      ]
     },
     "metadata": {},
     "output_type": "display_data"
    }
   ],
   "source": [
    "from tqdm.auto import tqdm\n",
    "from shutil import copyfile\n",
    "for fold_id in range(5):\n",
    "    train_path = f'data_2classfy/fold{fold_id}/train'\n",
    "    valid_path = f'data_2classfy/fold{fold_id}/test'\n",
    "    for class_name in ['none','opacity']:\n",
    "        os.makedirs(os.path.join(train_path,class_name),exist_ok=True)\n",
    "        os.makedirs(os.path.join(valid_path,class_name),exist_ok=True)\n",
    "    train_fold_df = train_df[train_df.fold_id != fold_id]\n",
    "    valid_fold_df = train_df[train_df.fold_id == fold_id]\n",
    "    for idx,row in tqdm(train_fold_df.iterrows(),total=len(train_fold_df)):\n",
    "        if row['label_2class'] == 0:\n",
    "            copyfile(row.filepath,os.path.join(train_path,'none',row.id_image+'.png'))\n",
    "        else:\n",
    "            copyfile(row.filepath,os.path.join(train_path,'opacity',row.id_image+'.png'))\n",
    "    for idx,row in tqdm(valid_fold_df.iterrows(),total=len(valid_fold_df)):\n",
    "        if row['label_2class'] == 0:\n",
    "            copyfile(row.filepath,os.path.join(valid_path,'none',row.id_image+'.png'))\n",
    "        else:\n",
    "            copyfile(row.filepath,os.path.join(valid_path,'opacity',row.id_image+'.png'))"
   ]
  },
  {
   "cell_type": "code",
   "execution_count": 32,
   "metadata": {},
   "outputs": [],
   "source": [
    "# generante data.yaml\n",
    "import yaml\n",
    "    \n",
    "for fold_id in range(5):\n",
    "    data_yaml = dict(\n",
    "        train = f'data_classfy/fold{fold_id}/train/images',\n",
    "        val = f'data_classfy/fold{fold_id}/valid/images',\n",
    "        nc = 4,\n",
    "        names = ['Negative for Pneumonia','Typical Appearance','Indeterminate Appearance','Atypical Appearance']\n",
    "    )\n",
    "    with open(f'data_classfy/fold{fold_id}/data.yaml','w') as f:\n",
    "        yaml.dump(data_yaml,f)"
   ]
  },
  {
   "cell_type": "code",
   "execution_count": null,
   "metadata": {},
   "outputs": [],
   "source": []
  },
  {
   "cell_type": "code",
   "execution_count": 14,
   "metadata": {},
   "outputs": [],
   "source": [
    "df = pd.concat([train_df, valid_df]).reset_index(drop=True)"
   ]
  },
  {
   "cell_type": "code",
   "execution_count": 15,
   "metadata": {},
   "outputs": [
    {
     "name": "stdout",
     "output_type": "stream",
     "text": [
      "Size of dataset: 6334, training images: 5067. validation images: 1267\n"
     ]
    }
   ],
   "source": [
    "print(f'Size of dataset: {len(df)}, training images: {len(train_df)}. validation images: {len(valid_df)}')\n"
   ]
  },
  {
   "cell_type": "code",
   "execution_count": 16,
   "metadata": {},
   "outputs": [],
   "source": [
    "os.makedirs(f'data_{IMG_SIZE}/train/images', exist_ok=True)\n",
    "os.makedirs(f'data_{IMG_SIZE}/valid/images', exist_ok=True)\n"
   ]
  },
  {
   "cell_type": "code",
   "execution_count": 17,
   "metadata": {},
   "outputs": [],
   "source": [
    "os.makedirs(f'data_{IMG_SIZE}/train/labels', exist_ok=True)\n",
    "os.makedirs(f'data_{IMG_SIZE}/valid/labels', exist_ok=True)\n"
   ]
  },
  {
   "cell_type": "code",
   "execution_count": 18,
   "metadata": {},
   "outputs": [
    {
     "data": {
      "application/vnd.jupyter.widget-view+json": {
       "model_id": "65a20da592904b879832e0b3d266ec9d",
       "version_major": 2,
       "version_minor": 0
      },
      "text/plain": [
       "  0%|          | 0/6334 [00:00<?, ?it/s]"
      ]
     },
     "metadata": {},
     "output_type": "display_data"
    }
   ],
   "source": [
    "for i in tqdm(range(len(df))):\n",
    "    row = df.loc[i]\n",
    "    if row.split == 'train':\n",
    "        copyfile(row.path, f'data_{IMG_SIZE}/train/images/{row.id}.png')\n",
    "    else:\n",
    "        copyfile(row.path, f'data_{IMG_SIZE}/valid/images/{row.id}.png')"
   ]
  },
  {
   "cell_type": "code",
   "execution_count": 19,
   "metadata": {},
   "outputs": [
    {
     "data": {
      "text/plain": [
       "['7183445f4d28.png',\n",
       " '1ea96fd9dd7c.png',\n",
       " '273722673feb.png',\n",
       " '3566e20a178e.png',\n",
       " '8d7cfdfc8bf2.png']"
      ]
     },
     "execution_count": 19,
     "metadata": {},
     "output_type": "execute_result"
    }
   ],
   "source": [
    "os.listdir(f'./tmp_{IMG_SIZE}/train')[:5]"
   ]
  },
  {
   "cell_type": "code",
   "execution_count": 20,
   "metadata": {},
   "outputs": [
    {
     "data": {
      "text/plain": [
       "'./tmp_640/train/d7a2083fec46.png'"
      ]
     },
     "execution_count": 20,
     "metadata": {},
     "output_type": "execute_result"
    }
   ],
   "source": [
    "row.path"
   ]
  },
  {
   "cell_type": "code",
   "execution_count": 21,
   "metadata": {},
   "outputs": [],
   "source": [
    "import yaml\n",
    "\n",
    "data_yaml = dict(\n",
    "    train = f'/home/outerform/github-repo/DeepLearningCourse-Project/data_{IMG_SIZE}/train/images',\n",
    "    val = f'/home/outerform/github-repo/DeepLearningCourse-Project/data_{IMG_SIZE}/valid/images',\n",
    "    nc = 2,\n",
    "    names = ['none', 'opacity']\n",
    ")\n",
    "\n",
    "with open(f'data_{IMG_SIZE}.yaml', 'w') as outfile:\n",
    "    yaml.dump(data_yaml, outfile, default_flow_style=True)\n",
    "    \n"
   ]
  },
  {
   "cell_type": "code",
   "execution_count": 22,
   "metadata": {},
   "outputs": [],
   "source": [
    "def get_bbox(row):\n",
    "    bboxes = []\n",
    "    bbox = []\n",
    "    labels  = row.label.split(' ')\n",
    "    bboxes = []\n",
    "    for i in range(0,len(labels), 6):\n",
    "        # print(labels[i+2:i+6])\n",
    "        bboxes.append(list(map(float,labels[i+2:i+6])))\n",
    "    return np.array(bboxes)\n",
    "\n",
    "        \n",
    "        "
   ]
  },
  {
   "cell_type": "code",
   "execution_count": 23,
   "metadata": {},
   "outputs": [],
   "source": [
    "def scale(row,bboxes):\n",
    "    scalex = IMG_SIZE/row.dim1\n",
    "    scaley = IMG_SIZE/row.dim0\n",
    "    scaled_bboxes = np.zeros_like(bboxes)\n",
    "    scaled_bboxes[:,[0,2]] = bboxes[:,[0,2]]*scalex\n",
    "    scaled_bboxes[:,[1,3]] = bboxes[:,[1,3]]*scaley\n",
    "    return scaled_bboxes"
   ]
  },
  {
   "cell_type": "code",
   "execution_count": 24,
   "metadata": {},
   "outputs": [],
   "source": [
    "def yolo_format(bboxes):\n",
    "    x = ((bboxes[:,0]+bboxes[:,2])/2)/IMG_SIZE\n",
    "    y = ((bboxes[:,1]+bboxes[:,3])/2)/IMG_SIZE\n",
    "    width = (bboxes[:,2]-bboxes[:,0])/IMG_SIZE\n",
    "    height = (bboxes[:,3]-bboxes[:,1])/IMG_SIZE\n",
    "    return np.column_stack([x,y,width,height]).astype(np.float32).reshape(-1,4)"
   ]
  },
  {
   "cell_type": "code",
   "execution_count": 25,
   "metadata": {},
   "outputs": [],
   "source": [
    "def convert_to_yolo(row):\n",
    "    bboxes = get_bbox(row)\n",
    "    scaled_bboxes = scale(row,bboxes)\n",
    "    yolo_bboxes = yolo_format(scaled_bboxes)\n",
    "    # image_id = row.id\n",
    "    # label = [0]*len(yolo_bboxes)\n",
    "    return yolo_bboxes"
   ]
  },
  {
   "cell_type": "code",
   "execution_count": 26,
   "metadata": {},
   "outputs": [
    {
     "data": {
      "application/vnd.jupyter.widget-view+json": {
       "model_id": "adacc71008174c98abd7d8fc44330b40",
       "version_major": 2,
       "version_minor": 0
      },
      "text/plain": [
       "  0%|          | 0/6334 [00:00<?, ?it/s]"
      ]
     },
     "metadata": {},
     "output_type": "display_data"
    }
   ],
   "source": [
    "for i in tqdm(range(len(df))):\n",
    "    row = df.loc[i]\n",
    "    # print(row.split)\n",
    "    label = row.image_level\n",
    "    if row.split == 'train':\n",
    "        label_path = f'data_{IMG_SIZE}/train/labels/{row.id}.txt'\n",
    "    else:\n",
    "        label_path = f'data_{IMG_SIZE}/valid/labels/{row.id}.txt'\n",
    "    \n",
    "    if label == 'opacity':\n",
    "        yoloboxes = convert_to_yolo(row)\n",
    "        with open(label_path, 'w') as f:\n",
    "            for bbox in yoloboxes:\n",
    "                f.write(f'1 {bbox[0]} {bbox[1]} {bbox[2]} {bbox[3]}\\n')\n"
   ]
  },
  {
   "cell_type": "code",
   "execution_count": 27,
   "metadata": {},
   "outputs": [],
   "source": [
    "x = np.array([1,2])\n",
    "y= np.array([1,3])"
   ]
  },
  {
   "cell_type": "code",
   "execution_count": null,
   "metadata": {},
   "outputs": [],
   "source": []
  },
  {
   "cell_type": "code",
   "execution_count": null,
   "metadata": {},
   "outputs": [],
   "source": []
  },
  {
   "cell_type": "code",
   "execution_count": null,
   "metadata": {},
   "outputs": [],
   "source": []
  }
 ],
 "metadata": {
  "kernelspec": {
   "display_name": "ml",
   "language": "python",
   "name": "python3"
  },
  "language_info": {
   "codemirror_mode": {
    "name": "ipython",
    "version": 3
   },
   "file_extension": ".py",
   "mimetype": "text/x-python",
   "name": "python",
   "nbconvert_exporter": "python",
   "pygments_lexer": "ipython3",
   "version": "3.7.16"
  },
  "orig_nbformat": 4
 },
 "nbformat": 4,
 "nbformat_minor": 2
}
