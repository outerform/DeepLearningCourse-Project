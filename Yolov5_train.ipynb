{
 "cells": [
  {
   "attachments": {},
   "cell_type": "markdown",
   "metadata": {},
   "source": [
    "# 1.Yolov5的数据准备"
   ]
  },
  {
   "attachments": {},
   "cell_type": "markdown",
   "metadata": {},
   "source": [
    "主要是在指定的路径下放好训练所需的数据"
   ]
  },
  {
   "cell_type": "code",
   "execution_count": 1,
   "metadata": {},
   "outputs": [],
   "source": [
    "ENV = \"Meg\"\n",
    "datadir = './tmp'\n",
    "outputdir = '.'\n",
    "archivedir = './archive'"
   ]
  },
  {
   "cell_type": "code",
   "execution_count": 2,
   "metadata": {},
   "outputs": [],
   "source": [
    "import numpy as np, pandas as pd\n",
    "from glob import glob\n",
    "import shutil, os\n",
    "import matplotlib.pyplot as plt\n",
    "from sklearn.model_selection import GroupKFold\n",
    "from tqdm.notebook import tqdm\n",
    "import seaborn as sns\n",
    "import torch\n",
    "import time\n",
    "from IPython.display import Image, clear_output  # to display images\n",
    "from os import listdir\n",
    "from os.path import isfile, join\n",
    "import yaml\n",
    "from sklearn.model_selection import GroupKFold\n"
   ]
  },
  {
   "cell_type": "code",
   "execution_count": 3,
   "metadata": {},
   "outputs": [],
   "source": [
    "class CFG:\n",
    "    suffix = \"2400\"\n",
    "    batch_size = 64\n",
    "    epochs = 50\n",
    "    image_size = 672 #记得改文件名  siim_yolo_label_txt\n",
    "    model_pt = f\"{outputdir}/yolov5-master/models/yolov5_kaggle.yaml\"\n",
    "    \n",
    "    debug = False"
   ]
  },
  {
   "cell_type": "code",
   "execution_count": 6,
   "metadata": {
    "scrolled": true
   },
   "outputs": [
    {
     "data": {
      "text/html": [
       "<div>\n",
       "<style scoped>\n",
       "    .dataframe tbody tr th:only-of-type {\n",
       "        vertical-align: middle;\n",
       "    }\n",
       "\n",
       "    .dataframe tbody tr th {\n",
       "        vertical-align: top;\n",
       "    }\n",
       "\n",
       "    .dataframe thead th {\n",
       "        text-align: right;\n",
       "    }\n",
       "</style>\n",
       "<table border=\"1\" class=\"dataframe\">\n",
       "  <thead>\n",
       "    <tr style=\"text-align: right;\">\n",
       "      <th></th>\n",
       "      <th>id</th>\n",
       "      <th>boxes</th>\n",
       "      <th>label</th>\n",
       "      <th>StudyInstanceUID</th>\n",
       "      <th>fold</th>\n",
       "      <th>image_path</th>\n",
       "    </tr>\n",
       "  </thead>\n",
       "  <tbody>\n",
       "    <tr>\n",
       "      <th>0</th>\n",
       "      <td>000a312787f2_image</td>\n",
       "      <td>[{'x': 789.28836, 'y': 582.43035, 'width': 102...</td>\n",
       "      <td>opacity 1 789.28836 582.43035 1815.94498 2499....</td>\n",
       "      <td>5776db0cec75</td>\n",
       "      <td>4</td>\n",
       "      <td>./tmp//train/image/000a312787f2_image.png</td>\n",
       "    </tr>\n",
       "    <tr>\n",
       "      <th>1</th>\n",
       "      <td>000c3a3f293f_image</td>\n",
       "      <td>NaN</td>\n",
       "      <td>none 1 0 0 1 1</td>\n",
       "      <td>ff0879eb20ed</td>\n",
       "      <td>0</td>\n",
       "      <td>./tmp//train/image/000c3a3f293f_image.png</td>\n",
       "    </tr>\n",
       "    <tr>\n",
       "      <th>2</th>\n",
       "      <td>0012ff7358bc_image</td>\n",
       "      <td>[{'x': 677.42216, 'y': 197.97662, 'width': 867...</td>\n",
       "      <td>opacity 1 677.42216 197.97662 1545.21983 1197....</td>\n",
       "      <td>9d514ce429a7</td>\n",
       "      <td>4</td>\n",
       "      <td>./tmp//train/image/0012ff7358bc_image.png</td>\n",
       "    </tr>\n",
       "    <tr>\n",
       "      <th>3</th>\n",
       "      <td>001398f4ff4f_image</td>\n",
       "      <td>[{'x': 2729, 'y': 2181.33331, 'width': 948.000...</td>\n",
       "      <td>opacity 1 2729 2181.33331 3677.00012 2785.33331</td>\n",
       "      <td>28dddc8559b2</td>\n",
       "      <td>1</td>\n",
       "      <td>./tmp//train/image/001398f4ff4f_image.png</td>\n",
       "    </tr>\n",
       "    <tr>\n",
       "      <th>4</th>\n",
       "      <td>001bd15d1891_image</td>\n",
       "      <td>[{'x': 623.23328, 'y': 1050, 'width': 714, 'he...</td>\n",
       "      <td>opacity 1 623.23328 1050 1337.23328 2156 opaci...</td>\n",
       "      <td>dfd9fdd85a3e</td>\n",
       "      <td>3</td>\n",
       "      <td>./tmp//train/image/001bd15d1891_image.png</td>\n",
       "    </tr>\n",
       "    <tr>\n",
       "      <th>...</th>\n",
       "      <td>...</td>\n",
       "      <td>...</td>\n",
       "      <td>...</td>\n",
       "      <td>...</td>\n",
       "      <td>...</td>\n",
       "      <td>...</td>\n",
       "    </tr>\n",
       "    <tr>\n",
       "      <th>6329</th>\n",
       "      <td>ffcc6edd9445_image</td>\n",
       "      <td>NaN</td>\n",
       "      <td>none 1 0 0 1 1</td>\n",
       "      <td>7e6c68462e06</td>\n",
       "      <td>3</td>\n",
       "      <td>./tmp//train/image/ffcc6edd9445_image.png</td>\n",
       "    </tr>\n",
       "    <tr>\n",
       "      <th>6330</th>\n",
       "      <td>ffd91a2c4ca0_image</td>\n",
       "      <td>NaN</td>\n",
       "      <td>none 1 0 0 1 1</td>\n",
       "      <td>8332bdaddb6e</td>\n",
       "      <td>3</td>\n",
       "      <td>./tmp//train/image/ffd91a2c4ca0_image.png</td>\n",
       "    </tr>\n",
       "    <tr>\n",
       "      <th>6331</th>\n",
       "      <td>ffd9b6cf2961_image</td>\n",
       "      <td>[{'x': 2197.38566, 'y': 841.07361, 'width': 31...</td>\n",
       "      <td>opacity 1 2197.38566 841.07361 2513.80265 1292...</td>\n",
       "      <td>7eed9af03814</td>\n",
       "      <td>2</td>\n",
       "      <td>./tmp//train/image/ffd9b6cf2961_image.png</td>\n",
       "    </tr>\n",
       "    <tr>\n",
       "      <th>6332</th>\n",
       "      <td>ffdc682f7680_image</td>\n",
       "      <td>[{'x': 2729.27083, 'y': 332.26044, 'width': 14...</td>\n",
       "      <td>opacity 1 2729.27083 332.26044 4225.52099 2936...</td>\n",
       "      <td>a0cb0b96fb3d</td>\n",
       "      <td>1</td>\n",
       "      <td>./tmp//train/image/ffdc682f7680_image.png</td>\n",
       "    </tr>\n",
       "    <tr>\n",
       "      <th>6333</th>\n",
       "      <td>ffe942c8655f_image</td>\n",
       "      <td>[{'x': 208.86463, 'y': 91.53448, 'width': 450....</td>\n",
       "      <td>opacity 1 208.86463 91.53448 659.8321 719.5892...</td>\n",
       "      <td>7d82d53204b8</td>\n",
       "      <td>3</td>\n",
       "      <td>./tmp//train/image/ffe942c8655f_image.png</td>\n",
       "    </tr>\n",
       "  </tbody>\n",
       "</table>\n",
       "<p>6334 rows × 6 columns</p>\n",
       "</div>"
      ],
      "text/plain": [
       "                      id                                              boxes  \\\n",
       "0     000a312787f2_image  [{'x': 789.28836, 'y': 582.43035, 'width': 102...   \n",
       "1     000c3a3f293f_image                                                NaN   \n",
       "2     0012ff7358bc_image  [{'x': 677.42216, 'y': 197.97662, 'width': 867...   \n",
       "3     001398f4ff4f_image  [{'x': 2729, 'y': 2181.33331, 'width': 948.000...   \n",
       "4     001bd15d1891_image  [{'x': 623.23328, 'y': 1050, 'width': 714, 'he...   \n",
       "...                  ...                                                ...   \n",
       "6329  ffcc6edd9445_image                                                NaN   \n",
       "6330  ffd91a2c4ca0_image                                                NaN   \n",
       "6331  ffd9b6cf2961_image  [{'x': 2197.38566, 'y': 841.07361, 'width': 31...   \n",
       "6332  ffdc682f7680_image  [{'x': 2729.27083, 'y': 332.26044, 'width': 14...   \n",
       "6333  ffe942c8655f_image  [{'x': 208.86463, 'y': 91.53448, 'width': 450....   \n",
       "\n",
       "                                                  label StudyInstanceUID  \\\n",
       "0     opacity 1 789.28836 582.43035 1815.94498 2499....     5776db0cec75   \n",
       "1                                        none 1 0 0 1 1     ff0879eb20ed   \n",
       "2     opacity 1 677.42216 197.97662 1545.21983 1197....     9d514ce429a7   \n",
       "3       opacity 1 2729 2181.33331 3677.00012 2785.33331     28dddc8559b2   \n",
       "4     opacity 1 623.23328 1050 1337.23328 2156 opaci...     dfd9fdd85a3e   \n",
       "...                                                 ...              ...   \n",
       "6329                                     none 1 0 0 1 1     7e6c68462e06   \n",
       "6330                                     none 1 0 0 1 1     8332bdaddb6e   \n",
       "6331  opacity 1 2197.38566 841.07361 2513.80265 1292...     7eed9af03814   \n",
       "6332  opacity 1 2729.27083 332.26044 4225.52099 2936...     a0cb0b96fb3d   \n",
       "6333  opacity 1 208.86463 91.53448 659.8321 719.5892...     7d82d53204b8   \n",
       "\n",
       "      fold                                 image_path  \n",
       "0        4  ./tmp//train/image/000a312787f2_image.png  \n",
       "1        0  ./tmp//train/image/000c3a3f293f_image.png  \n",
       "2        4  ./tmp//train/image/0012ff7358bc_image.png  \n",
       "3        1  ./tmp//train/image/001398f4ff4f_image.png  \n",
       "4        3  ./tmp//train/image/001bd15d1891_image.png  \n",
       "...    ...                                        ...  \n",
       "6329     3  ./tmp//train/image/ffcc6edd9445_image.png  \n",
       "6330     3  ./tmp//train/image/ffd91a2c4ca0_image.png  \n",
       "6331     2  ./tmp//train/image/ffd9b6cf2961_image.png  \n",
       "6332     1  ./tmp//train/image/ffdc682f7680_image.png  \n",
       "6333     3  ./tmp//train/image/ffe942c8655f_image.png  \n",
       "\n",
       "[6334 rows x 6 columns]"
      ]
     },
     "execution_count": 6,
     "metadata": {},
     "output_type": "execute_result"
    }
   ],
   "source": [
    "# 切分fold\n",
    "train_df = pd.read_csv(f'{datadir}/train_image_level.csv')\n",
    "fold = 0\n",
    "gkf  = GroupKFold(n_splits = 5)\n",
    "train_df['fold'] = -1\n",
    "for fold, (train_idx, val_idx) in enumerate(gkf.split(train_df, groups=train_df.StudyInstanceUID.tolist())):\n",
    "    train_df.loc[val_idx, 'fold'] = fold\n",
    "\n",
    "train_df['image_path'] = f'{datadir}/train/image/' + train_df[\"id\"]+ '.png'\n",
    "val_files   = list(train_df[train_df.fold==fold].image_path.unique())\n",
    "train_files = list(train_df[train_df.fold!=fold].image_path.unique())\n",
    "len(train_files), len(val_files)\n",
    "train_df"
   ]
  },
  {
   "cell_type": "code",
   "execution_count": 7,
   "metadata": {
    "scrolled": true
   },
   "outputs": [
    {
     "data": {
      "application/vnd.jupyter.widget-view+json": {
       "model_id": "5fd864d82308458d8460d64b1b3d9fea",
       "version_major": 2,
       "version_minor": 0
      },
      "text/plain": [
       "  0%|          | 0/5068 [00:00<?, ?it/s]"
      ]
     },
     "metadata": {},
     "output_type": "display_data"
    },
    {
     "ename": "FileNotFoundError",
     "evalue": "[Errno 2] No such file or directory: './tmp//siim_yolo_label_txt\\\\000c3a3f293f_image.txt'",
     "output_type": "error",
     "traceback": [
      "\u001b[1;31m---------------------------------------------------------------------------\u001b[0m",
      "\u001b[1;31mFileNotFoundError\u001b[0m                         Traceback (most recent call last)",
      "Cell \u001b[1;32mIn[7], line 10\u001b[0m\n\u001b[0;32m      8\u001b[0m     shutil\u001b[38;5;241m.\u001b[39mcopy(file, \u001b[38;5;124mf\u001b[39m\u001b[38;5;124m'\u001b[39m\u001b[38;5;132;01m{\u001b[39;00mdatadir\u001b[38;5;132;01m}\u001b[39;00m\u001b[38;5;124m/siim_yolo_dataset/images/train\u001b[39m\u001b[38;5;124m'\u001b[39m)\n\u001b[0;32m      9\u001b[0m     filename \u001b[38;5;241m=\u001b[39m file\u001b[38;5;241m.\u001b[39msplit(\u001b[38;5;124m'\u001b[39m\u001b[38;5;124m/\u001b[39m\u001b[38;5;124m'\u001b[39m)[\u001b[38;5;241m-\u001b[39m\u001b[38;5;241m1\u001b[39m]\u001b[38;5;241m.\u001b[39msplit(\u001b[38;5;124m'\u001b[39m\u001b[38;5;124m.\u001b[39m\u001b[38;5;124m'\u001b[39m)[\u001b[38;5;241m0\u001b[39m]\n\u001b[1;32m---> 10\u001b[0m     \u001b[43mshutil\u001b[49m\u001b[38;5;241;43m.\u001b[39;49m\u001b[43mcopy\u001b[49m\u001b[43m(\u001b[49m\u001b[43mos\u001b[49m\u001b[38;5;241;43m.\u001b[39;49m\u001b[43mpath\u001b[49m\u001b[38;5;241;43m.\u001b[39;49m\u001b[43mjoin\u001b[49m\u001b[43m(\u001b[49m\u001b[43mlabel_dir\u001b[49m\u001b[43m,\u001b[49m\u001b[43m \u001b[49m\u001b[43mfilename\u001b[49m\u001b[38;5;241;43m+\u001b[39;49m\u001b[38;5;124;43m'\u001b[39;49m\u001b[38;5;124;43m.txt\u001b[39;49m\u001b[38;5;124;43m'\u001b[39;49m\u001b[43m)\u001b[49m\u001b[43m,\u001b[49m\u001b[43m \u001b[49m\u001b[38;5;124;43mf\u001b[39;49m\u001b[38;5;124;43m'\u001b[39;49m\u001b[38;5;132;43;01m{\u001b[39;49;00m\u001b[43mdatadir\u001b[49m\u001b[38;5;132;43;01m}\u001b[39;49;00m\u001b[38;5;124;43m/siim_yolo_dataset/labels/train\u001b[39;49m\u001b[38;5;124;43m'\u001b[39;49m\u001b[43m)\u001b[49m\n\u001b[0;32m     12\u001b[0m \u001b[38;5;28;01mfor\u001b[39;00m file \u001b[38;5;129;01min\u001b[39;00m tqdm(val_files):\n\u001b[0;32m     13\u001b[0m     shutil\u001b[38;5;241m.\u001b[39mcopy(file, \u001b[38;5;124mf\u001b[39m\u001b[38;5;124m'\u001b[39m\u001b[38;5;132;01m{\u001b[39;00mdatadir\u001b[38;5;132;01m}\u001b[39;00m\u001b[38;5;124m/siim_yolo_dataset/images/val\u001b[39m\u001b[38;5;124m'\u001b[39m)\n",
      "File \u001b[1;32m~\\anaconda3\\envs\\PyTorch\\lib\\shutil.py:427\u001b[0m, in \u001b[0;36mcopy\u001b[1;34m(src, dst, follow_symlinks)\u001b[0m\n\u001b[0;32m    425\u001b[0m \u001b[38;5;28;01mif\u001b[39;00m os\u001b[38;5;241m.\u001b[39mpath\u001b[38;5;241m.\u001b[39misdir(dst):\n\u001b[0;32m    426\u001b[0m     dst \u001b[38;5;241m=\u001b[39m os\u001b[38;5;241m.\u001b[39mpath\u001b[38;5;241m.\u001b[39mjoin(dst, os\u001b[38;5;241m.\u001b[39mpath\u001b[38;5;241m.\u001b[39mbasename(src))\n\u001b[1;32m--> 427\u001b[0m \u001b[43mcopyfile\u001b[49m\u001b[43m(\u001b[49m\u001b[43msrc\u001b[49m\u001b[43m,\u001b[49m\u001b[43m \u001b[49m\u001b[43mdst\u001b[49m\u001b[43m,\u001b[49m\u001b[43m \u001b[49m\u001b[43mfollow_symlinks\u001b[49m\u001b[38;5;241;43m=\u001b[39;49m\u001b[43mfollow_symlinks\u001b[49m\u001b[43m)\u001b[49m\n\u001b[0;32m    428\u001b[0m copymode(src, dst, follow_symlinks\u001b[38;5;241m=\u001b[39mfollow_symlinks)\n\u001b[0;32m    429\u001b[0m \u001b[38;5;28;01mreturn\u001b[39;00m dst\n",
      "File \u001b[1;32m~\\anaconda3\\envs\\PyTorch\\lib\\shutil.py:264\u001b[0m, in \u001b[0;36mcopyfile\u001b[1;34m(src, dst, follow_symlinks)\u001b[0m\n\u001b[0;32m    262\u001b[0m     os\u001b[38;5;241m.\u001b[39msymlink(os\u001b[38;5;241m.\u001b[39mreadlink(src), dst)\n\u001b[0;32m    263\u001b[0m \u001b[38;5;28;01melse\u001b[39;00m:\n\u001b[1;32m--> 264\u001b[0m     \u001b[38;5;28;01mwith\u001b[39;00m \u001b[38;5;28;43mopen\u001b[39;49m\u001b[43m(\u001b[49m\u001b[43msrc\u001b[49m\u001b[43m,\u001b[49m\u001b[43m \u001b[49m\u001b[38;5;124;43m'\u001b[39;49m\u001b[38;5;124;43mrb\u001b[39;49m\u001b[38;5;124;43m'\u001b[39;49m\u001b[43m)\u001b[49m \u001b[38;5;28;01mas\u001b[39;00m fsrc:\n\u001b[0;32m    265\u001b[0m         \u001b[38;5;28;01mtry\u001b[39;00m:\n\u001b[0;32m    266\u001b[0m             \u001b[38;5;28;01mwith\u001b[39;00m \u001b[38;5;28mopen\u001b[39m(dst, \u001b[38;5;124m'\u001b[39m\u001b[38;5;124mwb\u001b[39m\u001b[38;5;124m'\u001b[39m) \u001b[38;5;28;01mas\u001b[39;00m fdst:\n\u001b[0;32m    267\u001b[0m                 \u001b[38;5;66;03m# macOS\u001b[39;00m\n",
      "\u001b[1;31mFileNotFoundError\u001b[0m: [Errno 2] No such file or directory: './tmp//siim_yolo_label_txt\\\\000c3a3f293f_image.txt'"
     ]
    }
   ],
   "source": [
    "# 将含label的txt文件，划分到train和val文件夹下.\n",
    "label_dir = f'{datadir}/siim_yolo_label_txt'\n",
    "os.makedirs(f'{datadir}/siim_yolo_dataset/labels/train', exist_ok = True)\n",
    "os.makedirs(f'{datadir}/siim_yolo_dataset/labels/val', exist_ok = True)\n",
    "os.makedirs(f'{datadir}/siim_yolo_dataset/images/train', exist_ok = True)\n",
    "os.makedirs(f'{datadir}/siim_yolo_dataset/images/val', exist_ok = True)\n",
    "for file in tqdm(train_files):\n",
    "    shutil.copy(file, f'{datadir}/siim_yolo_dataset/images/train')\n",
    "    filename = file.split('/')[-1].split('.')[0]\n",
    "    shutil.copy(os.path.join(label_dir, filename+'.txt'), f'{datadir}/siim_yolo_dataset/labels/train')\n",
    "    \n",
    "for file in tqdm(val_files):\n",
    "    shutil.copy(file, f'{datadir}/siim_yolo_dataset/images/val')\n",
    "    filename = file.split('/')[-1].split('.')[0]\n",
    "    shutil.copy(os.path.join(label_dir, filename+'.txt'), f'{datadir}/siim_yolo_dataset/labels/val')"
   ]
  },
  {
   "cell_type": "code",
   "execution_count": null,
   "metadata": {},
   "outputs": [],
   "source": [
    "# 新建一个data yaml文件\n",
    "classes = ['0. opacity']\n",
    "\n",
    "with open(join( datadir , 'siim_yolo_dataset/train.txt'), 'w') as f:\n",
    "    for path in glob(f'{datadir}/siim_yolo_dataset/images/train/*'):\n",
    "        f.write(path+'\\n')\n",
    "            \n",
    "with open(join( datadir , 'siim_yolo_dataset/val.txt'), 'w') as f:\n",
    "    for path in glob(f'{datadir}/siim_yolo_dataset/images/val/*'):\n",
    "        f.write(path+'\\n')\n",
    "\n",
    "data = dict(\n",
    "    train =  join( datadir , 'siim_yolo_dataset/train.txt'),\n",
    "    val   =  join( datadir , 'siim_yolo_dataset/val.txt' ),\n",
    "    nc    = 1,\n",
    "    names = classes\n",
    "    )\n",
    "\n",
    "with open(join( datadir , 'siim_yolo_dataset/siim_dataset.yaml'), 'w') as outfile:\n",
    "    yaml.dump(data, outfile, default_flow_style=False)\n",
    "\n",
    "f = open(join( datadir , 'siim_yolo_dataset/siim_dataset.yaml'), 'r')\n",
    "print(f.read())"
   ]
  },
  {
   "attachments": {},
   "cell_type": "markdown",
   "metadata": {},
   "source": [
    "# 2.Yolov5的训练"
   ]
  },
  {
   "cell_type": "code",
   "execution_count": 1,
   "metadata": {},
   "outputs": [
    {
     "name": "stdout",
     "output_type": "stream",
     "text": [
      "[WinError 3] 系统找不到指定的路径。: 'workspace/yolov5'\n",
      "C:\\Users\\xm\\jupyternotebook\n"
     ]
    }
   ],
   "source": [
    "%cd workspace/yolov5-master"
   ]
  },
  {
   "cell_type": "code",
   "execution_count": null,
   "metadata": {},
   "outputs": [],
   "source": [
    "!WANDB_MODE=\"dryrun\" python train.py --img $CFG.image_size --batch-size $CFG.batch_size --worker 16 --epochs $CFG.epochs --data /home/megstudio/workspace/competedata/siim_yolo_dataset/siim_dataset.yaml --hyp /home/megstudio/workspace/hyp.scratch.yaml --cfg $CFG.model_pt --weights '' --cache"
   ]
  }
 ],
 "metadata": {
  "kernelspec": {
   "display_name": "PyTorch",
   "language": "python",
   "name": "pytorch"
  },
  "language_info": {
   "codemirror_mode": {
    "name": "ipython",
    "version": 3
   },
   "file_extension": ".py",
   "mimetype": "text/x-python",
   "name": "python",
   "nbconvert_exporter": "python",
   "pygments_lexer": "ipython3",
   "version": "3.9.16"
  },
  "toc": {
   "base_numbering": 1,
   "nav_menu": {},
   "number_sections": true,
   "sideBar": true,
   "skip_h1_title": false,
   "title_cell": "Table of Contents",
   "title_sidebar": "Contents",
   "toc_cell": false,
   "toc_position": {},
   "toc_section_display": true,
   "toc_window_display": false
  }
 },
 "nbformat": 4,
 "nbformat_minor": 4
}
